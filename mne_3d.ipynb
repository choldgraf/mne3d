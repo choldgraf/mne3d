{
 "cells": [
  {
   "cell_type": "markdown",
   "metadata": {},
   "source": [
    "A place to demo some 3D interactive plotting of brain surfaces"
   ]
  },
  {
   "cell_type": "code",
   "execution_count": null,
   "metadata": {
    "collapsed": true
   },
   "outputs": [],
   "source": [
    "import numpy as np\n",
    "import ipyvolume.pylab as p3\n",
    "import nibabel"
   ]
  },
  {
   "cell_type": "code",
   "execution_count": null,
   "metadata": {
    "collapsed": true
   },
   "outputs": [],
   "source": [
    "# Read in some data\n",
    "\n",
    "# Data comes from the MNE-python sample dataset\n",
    "# Surface data\n",
    "surf = 'lh.pial'\n",
    "rr, tris = nibabel.freesurfer.read_geometry(surf)\n",
    "tris = tris.astype(np.uint32)\n",
    "\n",
    "# Curvature\n",
    "curv = 'lh.curv'\n",
    "curv = nibabel.freesurfer.read_morph_data(curv)\n",
    "\n",
    "# Normalize curvature\n",
    "curv = (curv > 0).astype(float)\n",
    "curv = (curv - 0.5) / 3 + 0.5\n",
    "curv = curv[:, np.newaxis] * [1, 1, 1]"
   ]
  },
  {
   "cell_type": "markdown",
   "metadata": {},
   "source": [
    "## ipyvolume"
   ]
  },
  {
   "cell_type": "code",
   "execution_count": null,
   "metadata": {
    "collapsed": true
   },
   "outputs": [],
   "source": [
    "x, y, z = rr.T"
   ]
  },
  {
   "cell_type": "code",
   "execution_count": null,
   "metadata": {},
   "outputs": [],
   "source": [
    "print(x.shape)\n",
    "print(tris.shape)\n",
    "print(curv.shape)"
   ]
  },
  {
   "cell_type": "code",
   "execution_count": null,
   "metadata": {},
   "outputs": [],
   "source": [
    "fig = p3.figure(width=500, height=500)\n",
    "p3.plot_trisurf(x, y, z, triangles=tris, color=curv)\n",
    "fig"
   ]
  },
  {
   "cell_type": "markdown",
   "metadata": {},
   "source": [
    "## pythreejs\n",
    "\n",
    "XXX: Haven't got this working yet because I think I have the wrong version installed :-)"
   ]
  },
  {
   "cell_type": "code",
   "execution_count": null,
   "metadata": {
    "collapsed": true
   },
   "outputs": [],
   "source": [
    "from pythreejs import (PlainBufferGeometry, Mesh, PerspectiveCamera, Scene,\n",
    "                       AmbientLight, Renderer, PhongMaterial, DirectionalLight, OrbitControls)\n",
    "import numpy as np\n",
    "from IPython.display import display\n",
    "import ipywidgets"
   ]
  },
  {
   "cell_type": "code",
   "execution_count": null,
   "metadata": {
    "collapsed": true
   },
   "outputs": [],
   "source": [
    "vertices = rr\n",
    "faces = tris\n",
    "vertexcolors = curv\n",
    "geom = PlainBufferGeometry(vertices=vertices, faces=faces, colors=vertexcolors)\n",
    "mesh = Mesh(geometry=geom, material=PhongMaterial(shininess=0,vertexColors='VertexColors'))\n",
    "camera = PerspectiveCamera(position=[500, 500, 500], fov=20,\n",
    "                           children=[DirectionalLight(color='#ffffff',\n",
    "                                                      position=[-3, 5, 1],\n",
    "                                                      intensity=0.5)])\n",
    "scene = Scene(children=[mesh, AmbientLight(color='#dddddd')])\n",
    "\n",
    "renderer = Renderer(camera=camera, background='black', background_opacity=1,\n",
    "                    scene=scene, controls=[OrbitControls(controlling=camera)])\n"
   ]
  },
  {
   "cell_type": "code",
   "execution_count": null,
   "metadata": {
    "collapsed": true
   },
   "outputs": [],
   "source": [
    "norm = np.linalg.norm(vertices, axis=1)\n",
    "norm /= norm.max()\n",
    "def color(n):\n",
    "    newcolor=curv.copy()\n",
    "    newcolor[:,0] = np.abs(np.sin(norm*n))\n",
    "    newcolor[:,2] = np.abs(np.cos(norm*n))\n",
    "    geom.colors = newcolor"
   ]
  },
  {
   "cell_type": "code",
   "execution_count": null,
   "metadata": {
    "collapsed": true
   },
   "outputs": [],
   "source": [
    "from ipywidgets import FloatSlider, VBox\n",
    "x = FloatSlider(min=0, max=12)\n",
    "def slide(change):\n",
    "    color(x.value)\n",
    "x.observe(slide)\n",
    "display(VBox([x, renderer]))"
   ]
  },
  {
   "cell_type": "code",
   "execution_count": null,
   "metadata": {
    "collapsed": true
   },
   "outputs": [],
   "source": [
    "camera.position"
   ]
  },
  {
   "cell_type": "code",
   "execution_count": null,
   "metadata": {
    "collapsed": true
   },
   "outputs": [],
   "source": [
    "camera.position = [-908.2539226976295, -0.0193857323769, 200]"
   ]
  },
  {
   "cell_type": "code",
   "execution_count": null,
   "metadata": {
    "collapsed": true
   },
   "outputs": [],
   "source": []
  }
 ],
 "metadata": {
  "kernelspec": {
   "display_name": "Python 3",
   "language": "python",
   "name": "python3"
  },
  "language_info": {
   "codemirror_mode": {
    "name": "ipython",
    "version": 3
   },
   "file_extension": ".py",
   "mimetype": "text/x-python",
   "name": "python",
   "nbconvert_exporter": "python",
   "pygments_lexer": "ipython3",
   "version": "3.6.1"
  },
  "toc": {
   "toc_cell": false,
   "toc_number_sections": true,
   "toc_threshold": "3",
   "toc_window_display": false
  }
 },
 "nbformat": 4,
 "nbformat_minor": 2
}
